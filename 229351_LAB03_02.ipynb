{
  "cells": [
    {
      "cell_type": "markdown",
      "metadata": {
        "id": "view-in-github",
        "colab_type": "text"
      },
      "source": [
        "<a href=\"https://colab.research.google.com/github/suchanya-pangam/670510749-229352-StatisticalLearning-or-Statistical-Learning-Labs./blob/main/229351_LAB03_02.ipynb\" target=\"_parent\"><img src=\"https://colab.research.google.com/assets/colab-badge.svg\" alt=\"Open In Colab\"/></a>"
      ]
    },
    {
      "cell_type": "markdown",
      "metadata": {
        "id": "rUWDxJYaXbGS"
      },
      "source": [
        "ปฏิบัติการครั้งที่ 3 กระบวนวิชา 229351 Statistical Learning for Data Science\n",
        "\n",
        "คำชี้แจง\n",
        "\n",
        "1. ให้เริ่มทำปฏิบัติการจาก colab notebook ที่กำหนดให้ จากนั้นบันทึกเป็นไฟล์ *.pdf"
      ]
    },
    {
      "cell_type": "markdown",
      "metadata": {
        "id": "40DP82euz0nP"
      },
      "source": [
        "### ในปฏิบัติการนี้เราจะฝึกการทำ PCA ด้วยสองวิธี คือ\n",
        "1. หาด้วยการแยกส่วนประกอบของเมทริกซ์ผ่าน numpy\n",
        "2. หาด้วยการใช้เครื่องมือที่มีมาให้ใน scikit-learn"
      ]
    },
    {
      "cell_type": "markdown",
      "metadata": {
        "id": "BFeBRlckOxSG"
      },
      "source": [
        "ดาวน์โหลดข้อมูลสัตว์ต่างๆ 50 ชนิดดังนี้  \n",
        "ชนิดสัตว์: https://donlapark.pages.dev/229351/data/classes.txt  \n",
        "ตัวแปรต่างๆ: https://donlapark.pages.dev/229351/data/predicates.txt  \n",
        "ค่าของสัตว์แต่ละชนิด: https://donlapark.pages.dev/229351/data/predicate-matrix-continuous.txt"
      ]
    },
    {
      "cell_type": "code",
      "execution_count": 1,
      "metadata": {
        "id": "j_cb12E477_I",
        "colab": {
          "base_uri": "https://localhost:8080/"
        },
        "outputId": "1f96d566-07e9-4162-8052-cc6211859d47"
      },
      "outputs": [
        {
          "output_type": "stream",
          "name": "stdout",
          "text": [
            "  Preparing metadata (setup.py) ... \u001b[?25l\u001b[?25hdone\n",
            "  Building wheel for wget (setup.py) ... \u001b[?25l\u001b[?25hdone\n"
          ]
        }
      ],
      "source": [
        "!pip install -q wget\n",
        "\n",
        "import numpy as np\n",
        "from matplotlib import pyplot as plt\n",
        "from sklearn.decomposition import PCA\n",
        "\n"
      ]
    },
    {
      "cell_type": "code",
      "execution_count": 2,
      "metadata": {
        "id": "m4HFWsz5j8sS",
        "colab": {
          "base_uri": "https://localhost:8080/"
        },
        "outputId": "79011e72-3ddd-4aa6-e962-b2fcb48a5792"
      },
      "outputs": [
        {
          "output_type": "stream",
          "name": "stdout",
          "text": [
            "--2025-07-17 02:28:46--  https://donlapark.pages.dev/229351/data/classes.txt\n",
            "Resolving donlapark.pages.dev (donlapark.pages.dev)... 172.66.47.56, 172.66.44.200, 2606:4700:310c::ac42:2cc8, ...\n",
            "Connecting to donlapark.pages.dev (donlapark.pages.dev)|172.66.47.56|:443... connected.\n",
            "HTTP request sent, awaiting response... 200 OK\n",
            "Length: 755 [text/plain]\n",
            "Saving to: ‘classes.txt’\n",
            "\n",
            "classes.txt         100%[===================>]     755  --.-KB/s    in 0s      \n",
            "\n",
            "2025-07-17 02:28:46 (12.8 MB/s) - ‘classes.txt’ saved [755/755]\n",
            "\n",
            "--2025-07-17 02:28:46--  https://donlapark.pages.dev/229351/data/predicate-matrix-continuous.txt\n",
            "Resolving donlapark.pages.dev (donlapark.pages.dev)... 172.66.47.56, 172.66.44.200, 2606:4700:310c::ac42:2cc8, ...\n",
            "Connecting to donlapark.pages.dev (donlapark.pages.dev)|172.66.47.56|:443... connected.\n",
            "HTTP request sent, awaiting response... 200 OK\n",
            "Length: 29800 (29K) [text/plain]\n",
            "Saving to: ‘predicate-matrix-continuous.txt’\n",
            "\n",
            "predicate-matrix-co 100%[===================>]  29.10K  --.-KB/s    in 0s      \n",
            "\n",
            "2025-07-17 02:28:47 (119 MB/s) - ‘predicate-matrix-continuous.txt’ saved [29800/29800]\n",
            "\n"
          ]
        }
      ],
      "source": [
        "# Download the files\n",
        "!wget -O classes.txt https://donlapark.pages.dev/229351/data/classes.txt\n",
        "!wget -O predicate-matrix-continuous.txt https://donlapark.pages.dev/229351/data/predicate-matrix-continuous.txt"
      ]
    },
    {
      "cell_type": "code",
      "execution_count": 3,
      "metadata": {
        "id": "5Tebr3-dBKxj",
        "colab": {
          "base_uri": "https://localhost:8080/"
        },
        "outputId": "b2388d80-04b2-4459-ca27-33ca28f506d6"
      },
      "outputs": [
        {
          "output_type": "execute_result",
          "data": {
            "text/plain": [
              "array([['1', 'antelope'],\n",
              "       ['2', 'grizzly+bear'],\n",
              "       ['3', 'killer+whale'],\n",
              "       ['4', 'beaver'],\n",
              "       ['5', 'dalmatian']], dtype='<U15')"
            ]
          },
          "metadata": {},
          "execution_count": 3
        }
      ],
      "source": [
        "classes = np.genfromtxt('classes.txt',dtype='str')\n",
        "\n",
        "classes[:5]"
      ]
    },
    {
      "cell_type": "code",
      "execution_count": 4,
      "metadata": {
        "id": "O_4Mr2OWaAae",
        "colab": {
          "base_uri": "https://localhost:8080/"
        },
        "outputId": "d0c5dfdc-1a48-44b3-ddf5-6f5524f73242"
      },
      "outputs": [
        {
          "output_type": "execute_result",
          "data": {
            "text/plain": [
              "array([[-1.  , -1.  , -1.  , -1.  , 12.34],\n",
              "       [39.25,  1.39,  0.  , 74.14,  3.75],\n",
              "       [83.4 , 64.79,  0.  ,  0.  ,  1.25],\n",
              "       [19.38,  0.  ,  0.  , 87.81,  7.5 ],\n",
              "       [69.58, 73.33,  0.  ,  6.39,  0.  ]])"
            ]
          },
          "metadata": {},
          "execution_count": 4
        }
      ],
      "source": [
        "data = np.genfromtxt('predicate-matrix-continuous.txt')\n",
        "\n",
        "data[:5,:5]"
      ]
    },
    {
      "cell_type": "markdown",
      "metadata": {
        "id": "DntRinCFiSMx"
      },
      "source": [
        "#### Exercise 1\n",
        "\n",
        "ใน code block ข้างล่างนี้ จงทำ PCA บนข้อมูลที่ได้มาให้เหลือเมทริกซ์ข้อมูลที่มีตัวแปรแค่ 2 ตัว โดยใช้ฟังก์ชัน $\\texttt{np.linalg.eigh}$  \n",
        "ดังนั้น เมทริกซ์ที่ได้ต้องมีขนาด 50x2"
      ]
    },
    {
      "cell_type": "markdown",
      "metadata": {
        "id": "H-aWhy49CquB"
      },
      "source": [
        "$$ \\Sigma =\n",
        "  \\begin{pmatrix}\n",
        "\\text{var}(X_1) & \\text{cov}(X_1,X_2) & \\cdots & \\text{cov}(X_1,X_{85}) \\\\\n",
        "\\text{cov}(X_2,X_1) & \\text{var}(X_2) & \\cdots & \\text{cov}(X_2,X_{85}) \\\\\n",
        "\\vdots & \\vdots & \\ddots & \\vdots \\\\\n",
        "\\text{cov}(X_{85},X_1) & \\text{cov}(X_{85},X_1) & \\cdots & \\text{var}(X_{85}) \\\\\n",
        "\\end{pmatrix}\n",
        " $$"
      ]
    },
    {
      "cell_type": "code",
      "execution_count": 20,
      "metadata": {
        "id": "-gCRXKb8fkuH",
        "scrolled": true,
        "colab": {
          "base_uri": "https://localhost:8080/"
        },
        "outputId": "5540ab6e-bbc5-48f0-9bac-e109e1c0fb5a"
      },
      "outputs": [
        {
          "output_type": "stream",
          "name": "stdout",
          "text": [
            "[[-36.353  -27.8552  -5.2134 ... -23.4826 -11.1992 -17.2306]\n",
            " [  3.897  -25.4652  -4.2134 ...  32.8074  -0.7592 -14.2206]\n",
            " [ 48.047   37.9348  -4.2134 ... -10.0626  -7.4892 -10.1906]\n",
            " ...\n",
            " [ 28.217   16.2448  -4.2134 ...  10.1174   7.3608 -20.6106]\n",
            " [ 19.957   28.6048  -4.2134 ... -20.7926  -2.0092  47.3794]\n",
            " [-25.133   -5.3252  23.5166 ... -21.8726  -6.8492  12.3694]] <- data\n",
            "\n",
            "\n",
            "[[678.34381327 294.72318408 -51.03504306 ...  35.29169612  52.45176367\n",
            "  123.87198592]\n",
            " [294.72318408 777.49147037 -35.61319355 ...  15.41892294 -21.32069984\n",
            "  240.43930702]\n",
            " [-51.03504306 -35.61319355 136.51158616 ...  -3.53040698 -27.83962784\n",
            "   13.66632649]\n",
            " ...\n",
            " [ 35.29169612  15.41892294  -3.53040698 ... 302.91439514   5.05972661\n",
            "   22.86058412]\n",
            " [ 52.45176367 -21.32069984 -27.83962784 ...   5.05972661 113.79717486\n",
            "  -11.2181138 ]\n",
            " [123.87198592 240.43930702  13.66632649 ...  22.86058412 -11.2181138\n",
            "  703.11138535]] <- cov_da\n",
            "EighResult(eigenvalues=array([-8.27369218e-13, -7.54929213e-13, -7.45922805e-13, -6.61976559e-13,\n",
            "       -6.16439723e-13, -5.82104445e-13, -5.24395690e-13, -3.71197068e-13,\n",
            "       -3.27067857e-13, -2.70969616e-13, -2.25445048e-13, -1.97140606e-13,\n",
            "       -1.57310932e-13, -1.53694606e-13, -5.89384083e-14, -3.84565174e-14,\n",
            "       -9.10382943e-15,  1.89151088e-14,  4.29045008e-14,  7.20095217e-14,\n",
            "        1.00700986e-13,  1.07126927e-13,  1.61663957e-13,  2.24553993e-13,\n",
            "        2.72860236e-13,  2.91323268e-13,  3.30652194e-13,  4.11524212e-13,\n",
            "        5.00682875e-13,  5.97130062e-13,  6.79325088e-13,  6.79860179e-13,\n",
            "        7.87382415e-13,  8.43542139e-13,  9.61130915e-13,  1.59715209e-12,\n",
            "        9.60798014e+00,  1.14487292e+01,  1.35778481e+01,  2.05738436e+01,\n",
            "        2.41278539e+01,  2.46279141e+01,  3.20637497e+01,  3.35597183e+01,\n",
            "        3.87277570e+01,  4.18662051e+01,  4.90094196e+01,  5.50686373e+01,\n",
            "        5.89956382e+01,  6.92625525e+01,  7.87311552e+01,  8.03692520e+01,\n",
            "        8.93809111e+01,  9.55084736e+01,  1.13247867e+02,  1.16624718e+02,\n",
            "        1.21222731e+02,  1.28669921e+02,  1.47004871e+02,  1.56585949e+02,\n",
            "        1.76485403e+02,  1.89953514e+02,  2.01957980e+02,  2.29858245e+02,\n",
            "        2.36568282e+02,  2.84103049e+02,  3.11685732e+02,  3.29601500e+02,\n",
            "        3.75417051e+02,  4.19157194e+02,  4.91203104e+02,  5.43057322e+02,\n",
            "        5.69001928e+02,  6.43491924e+02,  7.42269826e+02,  8.53302240e+02,\n",
            "        9.92004684e+02,  1.32003344e+03,  1.47209625e+03,  1.77052803e+03,\n",
            "        2.25660192e+03,  2.69499201e+03,  4.37742323e+03,  6.39235406e+03,\n",
            "        8.34667826e+03]), eigenvectors=array([[ 0.00059679, -0.00019714,  0.        , ..., -0.06736002,\n",
            "        -0.03076748, -0.02923261],\n",
            "       [ 0.06021105, -0.01654494,  0.1111663 , ..., -0.08662439,\n",
            "         0.06790749, -0.02603528],\n",
            "       [-0.13896194,  0.16251312, -0.08288602, ..., -0.00051252,\n",
            "        -0.03413332,  0.05765032],\n",
            "       ...,\n",
            "       [ 0.0693391 ,  0.04860269,  0.10112097, ..., -0.02152082,\n",
            "        -0.08289275, -0.08860299],\n",
            "       [-0.11921395, -0.04961691, -0.08301718, ..., -0.02661749,\n",
            "        -0.02424799, -0.03619948],\n",
            "       [-0.05290642,  0.1562701 ,  0.07344006, ..., -0.13069881,\n",
            "         0.05416196, -0.03722028]]))\n",
            "[-8.27369218e-13 -7.54929213e-13 -7.45922805e-13 -6.61976559e-13\n",
            " -6.16439723e-13 -5.82104445e-13 -5.24395690e-13 -3.71197068e-13\n",
            " -3.27067857e-13 -2.70969616e-13 -2.25445048e-13 -1.97140606e-13\n",
            " -1.57310932e-13 -1.53694606e-13 -5.89384083e-14 -3.84565174e-14\n",
            " -9.10382943e-15  1.89151088e-14  4.29045008e-14  7.20095217e-14\n",
            "  1.00700986e-13  1.07126927e-13  1.61663957e-13  2.24553993e-13\n",
            "  2.72860236e-13  2.91323268e-13  3.30652194e-13  4.11524212e-13\n",
            "  5.00682875e-13  5.97130062e-13  6.79325088e-13  6.79860179e-13\n",
            "  7.87382415e-13  8.43542139e-13  9.61130915e-13  1.59715209e-12\n",
            "  9.60798014e+00  1.14487292e+01  1.35778481e+01  2.05738436e+01\n",
            "  2.41278539e+01  2.46279141e+01  3.20637497e+01  3.35597183e+01\n",
            "  3.87277570e+01  4.18662051e+01  4.90094196e+01  5.50686373e+01\n",
            "  5.89956382e+01  6.92625525e+01  7.87311552e+01  8.03692520e+01\n",
            "  8.93809111e+01  9.55084736e+01  1.13247867e+02  1.16624718e+02\n",
            "  1.21222731e+02  1.28669921e+02  1.47004871e+02  1.56585949e+02\n",
            "  1.76485403e+02  1.89953514e+02  2.01957980e+02  2.29858245e+02\n",
            "  2.36568282e+02  2.84103049e+02  3.11685732e+02  3.29601500e+02\n",
            "  3.75417051e+02  4.19157194e+02  4.91203104e+02  5.43057322e+02\n",
            "  5.69001928e+02  6.43491924e+02  7.42269826e+02  8.53302240e+02\n",
            "  9.92004684e+02  1.32003344e+03  1.47209625e+03  1.77052803e+03\n",
            "  2.25660192e+03  2.69499201e+03  4.37742323e+03  6.39235406e+03\n",
            "  8.34667826e+03]\n",
            "[[ 0.00059679 -0.00019714  0.         ... -0.06736002 -0.03076748\n",
            "  -0.02923261]\n",
            " [ 0.06021105 -0.01654494  0.1111663  ... -0.08662439  0.06790749\n",
            "  -0.02603528]\n",
            " [-0.13896194  0.16251312 -0.08288602 ... -0.00051252 -0.03413332\n",
            "   0.05765032]\n",
            " ...\n",
            " [ 0.0693391   0.04860269  0.10112097 ... -0.02152082 -0.08289275\n",
            "  -0.08860299]\n",
            " [-0.11921395 -0.04961691 -0.08301718 ... -0.02661749 -0.02424799\n",
            "  -0.03619948]\n",
            " [-0.05290642  0.1562701   0.07344006 ... -0.13069881  0.05416196\n",
            "  -0.03722028]]\n",
            "[[-8.27369218e-13  0.00000000e+00  0.00000000e+00 ...  0.00000000e+00\n",
            "   0.00000000e+00  0.00000000e+00]\n",
            " [ 0.00000000e+00 -7.54929213e-13  0.00000000e+00 ...  0.00000000e+00\n",
            "   0.00000000e+00  0.00000000e+00]\n",
            " [ 0.00000000e+00  0.00000000e+00 -7.45922805e-13 ...  0.00000000e+00\n",
            "   0.00000000e+00  0.00000000e+00]\n",
            " ...\n",
            " [ 0.00000000e+00  0.00000000e+00  0.00000000e+00 ...  4.37742323e+03\n",
            "   0.00000000e+00  0.00000000e+00]\n",
            " [ 0.00000000e+00  0.00000000e+00  0.00000000e+00 ...  0.00000000e+00\n",
            "   6.39235406e+03  0.00000000e+00]\n",
            " [ 0.00000000e+00  0.00000000e+00  0.00000000e+00 ...  0.00000000e+00\n",
            "   0.00000000e+00  8.34667826e+03]]\n",
            "[[-0.03076748 -0.02923261]\n",
            " [ 0.06790749 -0.02603528]\n",
            " [-0.03413332  0.05765032]\n",
            " [ 0.03010533 -0.07924311]\n",
            " [ 0.00134638  0.08038476]\n",
            " [-0.0382634  -0.0599211 ]\n",
            " [-0.00843142 -0.01485427]\n",
            " [-0.0068804  -0.02623778]\n",
            " [ 0.01606526  0.00148739]\n",
            " [ 0.01271834 -0.00078842]\n",
            " [ 0.01969674 -0.05273389]\n",
            " [-0.01108856 -0.23301202]\n",
            " [-0.04893155  0.20304378]\n",
            " [ 0.01612496  0.1940289 ]\n",
            " [ 0.0192098   0.19771924]\n",
            " [-0.02625845 -0.13308194]\n",
            " [ 0.00852653  0.17104781]\n",
            " [-0.04656424 -0.10668474]\n",
            " [-0.15959861  0.2020485 ]\n",
            " [-0.00261477 -0.03125745]\n",
            " [ 0.24541962  0.04931286]\n",
            " [-0.036693   -0.07073792]\n",
            " [-0.14046168 -0.22333828]\n",
            " [ 0.12684931 -0.03544241]\n",
            " [ 0.08376293 -0.0007031 ]\n",
            " [-0.0127625  -0.10139994]\n",
            " [ 0.09356596 -0.01776887]\n",
            " [-0.21474863 -0.16328178]\n",
            " [ 0.04844392 -0.01781618]\n",
            " [-0.06841344  0.09298234]\n",
            " [ 0.17306711  0.04668897]\n",
            " [-0.15677742 -0.16909294]\n",
            " [ 0.00146364  0.0691306 ]\n",
            " [ 0.06517703 -0.01300408]\n",
            " [-0.00937118 -0.01100742]\n",
            " [ 0.02378293 -0.01768174]\n",
            " [-0.20547613  0.23323864]\n",
            " [ 0.01175905 -0.02477471]\n",
            " [ 0.15495853 -0.1591763 ]\n",
            " [-0.08902216 -0.13838157]\n",
            " [ 0.08447915  0.11362186]\n",
            " [-0.03784482  0.07377773]\n",
            " [ 0.04382139 -0.04060988]\n",
            " [-0.04546245 -0.06326727]\n",
            " [-0.0199394  -0.03480209]\n",
            " [ 0.15618978 -0.16938336]\n",
            " [-0.07694843 -0.15508546]\n",
            " [ 0.06122638  0.08000633]\n",
            " [-0.07870849 -0.10997209]\n",
            " [-0.06272118 -0.07126278]\n",
            " [-0.09826089 -0.13995882]\n",
            " [-0.20075571  0.12035723]\n",
            " [-0.18670787 -0.1853604 ]\n",
            " [-0.06925338  0.11031197]\n",
            " [ 0.29059623  0.01817874]\n",
            " [ 0.00630866 -0.02241738]\n",
            " [ 0.01952569 -0.08032522]\n",
            " [ 0.28584317  0.03567641]\n",
            " [-0.22760121 -0.10387693]\n",
            " [-0.04638378 -0.05027536]\n",
            " [-0.04058121  0.06339944]\n",
            " [-0.16124883 -0.13523665]\n",
            " [ 0.00371191 -0.07289757]\n",
            " [ 0.08763283 -0.04404596]\n",
            " [-0.13398938  0.1155965 ]\n",
            " [-0.08237122  0.07250711]\n",
            " [ 0.00462634 -0.01991823]\n",
            " [ 0.05575054 -0.0513068 ]\n",
            " [ 0.15342178 -0.03964236]\n",
            " [ 0.00053759 -0.13035009]\n",
            " [ 0.17388613 -0.06528752]\n",
            " [-0.02335085 -0.07286522]\n",
            " [ 0.02650805 -0.06460954]\n",
            " [-0.17946075  0.22254597]\n",
            " [ 0.15700198 -0.1428085 ]\n",
            " [-0.19127689  0.23803071]\n",
            " [-0.01484274 -0.0769222 ]\n",
            " [-0.0583046  -0.05881347]\n",
            " [-0.16283594 -0.12529534]\n",
            " [ 0.13759346  0.07177431]\n",
            " [-0.11990278 -0.02996443]\n",
            " [ 0.07360059  0.08049259]\n",
            " [-0.08289275 -0.08860299]\n",
            " [-0.02424799 -0.03619948]\n",
            " [ 0.05416196 -0.03722028]]  <- U_2\n",
            "[[ 106.35992505   14.33200256]\n",
            " [ -76.22681969  -58.9630861 ]\n",
            " [-139.3662367   170.08767172]\n",
            " [ -54.04638157   31.85582565]\n",
            " [ -11.3917049   -29.65753503]\n",
            " [ -10.72272289  -40.87859041]\n",
            " [ 104.79228138    1.17791115]\n",
            " [ -45.38757524  -82.43016284]\n",
            " [ -82.83737143  211.92608739]\n",
            " [ -43.3052917   -90.92835147]\n",
            " [  35.20297112  -58.01597662]\n",
            " [  20.17533047  -33.18440666]\n",
            " [ -92.38136512 -127.19955243]\n",
            " [  24.05695316  129.48931695]\n",
            " [ -89.2965802  -117.35250987]\n",
            " [ 129.17123958   28.55636713]\n",
            " [   6.27693742  -43.49964663]\n",
            " [ -95.28906181  226.54893728]\n",
            " [  85.05034027   95.64111855]\n",
            " [   1.34492612  -18.3316707 ]\n",
            " [ 120.70785352   56.58550468]\n",
            " [ -74.12827031 -111.97091878]\n",
            " [ 132.31759287   25.79398483]\n",
            " [-100.93057781  151.36316459]\n",
            " [  19.55128584  -67.92677834]\n",
            " [  49.77147826  -48.25033667]\n",
            " [  11.07402232  -61.48822496]\n",
            " [  65.00899433   96.32422934]\n",
            " [  68.2626778   -32.71055049]\n",
            " [ -58.45553839  -55.32175189]\n",
            " [ 124.27963392   24.47458869]\n",
            " [ -86.88931727  -99.3303442 ]\n",
            " [ -12.88583838  -73.59635072]\n",
            " [ -11.25129371  -95.60655817]\n",
            " [ -40.57561094  -71.04330398]\n",
            " [ -98.87923662   69.91610769]\n",
            " [  85.96699555   61.2577528 ]\n",
            " [ 132.44048918   -4.14741412]\n",
            " [  48.90980111   -4.90413155]\n",
            " [ 114.803083    -19.07311359]\n",
            " [ -98.67483978 -130.89391587]\n",
            " [  67.3358686    57.08125662]\n",
            " [ -66.12402159  -81.98309811]\n",
            " [  42.63011111  -38.87562183]\n",
            " [ -99.85586236    9.18275029]\n",
            " [  -9.5950222   -64.18084359]\n",
            " [ -87.8987012   184.57248103]\n",
            " [ -28.13905697  -75.73758307]\n",
            " [ 115.53842916   47.50365302]\n",
            " [ -96.49492234  143.8116167 ]]\n",
            "[[ 106.35992505   14.33200256]\n",
            " [ -76.22681969  -58.9630861 ]\n",
            " [-139.3662367   170.08767172]\n",
            " [ -54.04638157   31.85582565]\n",
            " [ -11.3917049   -29.65753503]\n",
            " [ -10.72272289  -40.87859041]\n",
            " [ 104.79228138    1.17791115]\n",
            " [ -45.38757524  -82.43016284]\n",
            " [ -82.83737143  211.92608739]\n",
            " [ -43.3052917   -90.92835147]\n",
            " [  35.20297112  -58.01597662]\n",
            " [  20.17533047  -33.18440666]\n",
            " [ -92.38136512 -127.19955243]\n",
            " [  24.05695316  129.48931695]\n",
            " [ -89.2965802  -117.35250987]\n",
            " [ 129.17123958   28.55636713]\n",
            " [   6.27693742  -43.49964663]\n",
            " [ -95.28906181  226.54893728]\n",
            " [  85.05034027   95.64111855]\n",
            " [   1.34492612  -18.3316707 ]\n",
            " [ 120.70785352   56.58550468]\n",
            " [ -74.12827031 -111.97091878]\n",
            " [ 132.31759287   25.79398483]\n",
            " [-100.93057781  151.36316459]\n",
            " [  19.55128584  -67.92677834]\n",
            " [  49.77147826  -48.25033667]\n",
            " [  11.07402232  -61.48822496]\n",
            " [  65.00899433   96.32422934]\n",
            " [  68.2626778   -32.71055049]\n",
            " [ -58.45553839  -55.32175189]\n",
            " [ 124.27963392   24.47458869]\n",
            " [ -86.88931727  -99.3303442 ]\n",
            " [ -12.88583838  -73.59635072]\n",
            " [ -11.25129371  -95.60655817]\n",
            " [ -40.57561094  -71.04330398]\n",
            " [ -98.87923662   69.91610769]\n",
            " [  85.96699555   61.2577528 ]\n",
            " [ 132.44048918   -4.14741412]\n",
            " [  48.90980111   -4.90413155]\n",
            " [ 114.803083    -19.07311359]\n",
            " [ -98.67483978 -130.89391587]\n",
            " [  67.3358686    57.08125662]\n",
            " [ -66.12402159  -81.98309811]\n",
            " [  42.63011111  -38.87562183]\n",
            " [ -99.85586236    9.18275029]\n",
            " [  -9.5950222   -64.18084359]\n",
            " [ -87.8987012   184.57248103]\n",
            " [ -28.13905697  -75.73758307]\n",
            " [ 115.53842916   47.50365302]\n",
            " [ -96.49492234  143.8116167 ]]\n"
          ]
        }
      ],
      "source": [
        "# TODO: enter code here\n",
        "\n",
        "# 1. Center ข้อมูล สมมติว่า data_c คือ normalized (centered) data\n",
        "np.mean(data,axis=0)\n",
        "data = data - np.mean(data,axis=0)\n",
        "print(data, '<- data\\n\\n')\n",
        "# 2. หา covariance matrix\n",
        "cov_da = np.cov(data, rowvar=False)\n",
        "print(cov_da, '<- cov_da')\n",
        "# 3. Decompose the covariance matrix UDU^T\n",
        "speccov_da= np.linalg.eigh(cov_da)\n",
        "print(speccov_da)\n",
        "D = speccov_da[0]\n",
        "U = speccov_da[1]\n",
        "print(D)\n",
        "print(U)\n",
        "diagD = np.diag(D)\n",
        "print(diagD)\n",
        "# 4. ดึง column ของ U ที่ประกอบไปด้วย eigenvector สองตัวที่มีค่า eigenvalue สูงที่สุด\n",
        "l_2 = D[-1] #eigenvalue ที่มีค่าสูงที่สุด\n",
        "l_3 = D[-2] #eigenvalue ที่มีค่ารองลงมา\n",
        "U_23 = U[:,-2:]\n",
        "print(U_23, ' <- U_2')\n",
        "# 5. เอา data_c ไปทำ projection ทิศทางของ eigenvector ใน U\n",
        "data2 = data @ U_23  # M คือ matrix ที่มีข้อมูลอยู่\n",
        "print(data2)\n",
        "# Result: a (50,2) matrix\n",
        "print(data2)"
      ]
    },
    {
      "cell_type": "markdown",
      "metadata": {
        "id": "refYgya0jlfh"
      },
      "source": [
        "#### OPTIONAL\n",
        "\n",
        "ใน code block ข้างล่างนี้ จงทำ PCA บนข้อมูลที่ได้มาให้เหลือเมทริกซ์ข้อมูลที่มีตัวแปรแค่ 2 ตัว โดยใช้ $scikit-learn$  \n",
        "พร้อมกับตรวจสอบว่าเมทริกซ์ที่ได้จากทั้งสองวิธีนี้มีค่าเท่ากัน (ต่างกันแค่ค่าบวกลบ)"
      ]
    },
    {
      "cell_type": "code",
      "execution_count": 21,
      "metadata": {
        "id": "TWoz-qMICQsv",
        "colab": {
          "base_uri": "https://localhost:8080/"
        },
        "outputId": "d1e80892-e476-434b-aa66-2918b22b38b5"
      },
      "outputs": [
        {
          "output_type": "stream",
          "name": "stdout",
          "text": [
            "[[  14.33200256  106.35992505]\n",
            " [ -58.9630861   -76.22681969]\n",
            " [ 170.08767172 -139.3662367 ]\n",
            " [  31.85582565  -54.04638157]\n",
            " [ -29.65753503  -11.3917049 ]\n",
            " [ -40.87859041  -10.72272289]\n",
            " [   1.17791115  104.79228138]\n",
            " [ -82.43016284  -45.38757524]\n",
            " [ 211.92608739  -82.83737143]\n",
            " [ -90.92835147  -43.3052917 ]\n",
            " [ -58.01597662   35.20297112]\n",
            " [ -33.18440666   20.17533047]\n",
            " [-127.19955243  -92.38136512]\n",
            " [ 129.48931695   24.05695316]\n",
            " [-117.35250987  -89.2965802 ]\n",
            " [  28.55636713  129.17123958]\n",
            " [ -43.49964663    6.27693742]\n",
            " [ 226.54893728  -95.28906181]\n",
            " [  95.64111855   85.05034027]\n",
            " [ -18.3316707     1.34492612]\n",
            " [  56.58550468  120.70785352]\n",
            " [-111.97091878  -74.12827031]\n",
            " [  25.79398483  132.31759287]\n",
            " [ 151.36316459 -100.93057781]\n",
            " [ -67.92677834   19.55128584]\n",
            " [ -48.25033667   49.77147826]\n",
            " [ -61.48822496   11.07402232]\n",
            " [  96.32422934   65.00899433]\n",
            " [ -32.71055049   68.2626778 ]\n",
            " [ -55.32175189  -58.45553839]\n",
            " [  24.47458869  124.27963392]\n",
            " [ -99.3303442   -86.88931727]\n",
            " [ -73.59635072  -12.88583838]\n",
            " [ -95.60655817  -11.25129371]\n",
            " [ -71.04330398  -40.57561094]\n",
            " [  69.91610769  -98.87923662]\n",
            " [  61.2577528    85.96699555]\n",
            " [  -4.14741412  132.44048918]\n",
            " [  -4.90413155   48.90980111]\n",
            " [ -19.07311359  114.803083  ]\n",
            " [-130.89391587  -98.67483978]\n",
            " [  57.08125662   67.3358686 ]\n",
            " [ -81.98309811  -66.12402159]\n",
            " [ -38.87562183   42.63011111]\n",
            " [   9.18275029  -99.85586236]\n",
            " [ -64.18084359   -9.5950222 ]\n",
            " [ 184.57248103  -87.8987012 ]\n",
            " [ -75.73758307  -28.13905697]\n",
            " [  47.50365302  115.53842916]\n",
            " [ 143.8116167   -96.49492234]]\n"
          ]
        }
      ],
      "source": [
        "#TODO (optional): enter code here\n",
        "pca = PCA(n_components=2)\n",
        "data2 = pca.fit_transform(data)\n",
        "print(data2)"
      ]
    },
    {
      "cell_type": "markdown",
      "metadata": {
        "id": "kvxBs5Hlk5rZ"
      },
      "source": [
        "#### Exercise 2\n",
        "\n",
        "ทำการพล็อตจุดของข้อมูลที่ได้จาก PCA ข้างบนพร้อมกับใส่คำกำกับว่าจุดไหนเป็นของสัตว์ชนิดใดโดยใช้ชื่อสัตว์จาก classes.txt"
      ]
    },
    {
      "cell_type": "code",
      "execution_count": 25,
      "metadata": {
        "id": "2srU_UiTbhS9",
        "colab": {
          "base_uri": "https://localhost:8080/",
          "height": 1000
        },
        "outputId": "bbbea97e-f378-4a85-b56a-85795e9fa81f"
      },
      "outputs": [
        {
          "output_type": "display_data",
          "data": {
            "text/plain": [
              "<Figure size 1200x1600 with 1 Axes>"
            ],
            "image/png": "[encoded data removed]"
          },
          "metadata": {}
        }
      ],
      "source": [
        "# กำหนดขนาดของรูป\n",
        "plt.figure(figsize=(12,16))\n",
        "\n",
        "# จงเติม argument ที่เหมาะสมในวงเล็บข้างล่างนี้\n",
        "# รูปแบบของฟังก์ชันคือ plt.scatter(numpy array ของ x-coordinate, numpy array ของ y-coordinate)\n",
        "plt.scatter(data[:,0], data[:,1],s=60) #TODO: 1st column of your 50x2 matrix, #TODO: 2nd column of your 50x2 matrix )\n",
        "\n",
        "# for loop เพื่อใส่คำกำกับ (annotate) ชื่อสัตว์ของแต่ละจุด วนให้ครบสัตว์ทุกชนิดที่อยู่ใน classes\n",
        "# ใส่ numpy array ที่ผ่านการทำ PCA แล้วลงในตำแหน่งที่ระบุเพื่อบอกพิกัดที่ต้องวางคำกำกับ\n",
        "for i in range(50):\n",
        "  plt.annotate(\n",
        "      classes[i,1],\n",
        "      xy=(data2[i,0],data2[i,1]),\n",
        "      xytext=(5,-8),\n",
        "              textcoords='offset pixels')\n",
        "\n",
        "\n",
        "plt.show()"
      ]
    },
    {
      "cell_type": "markdown",
      "metadata": {
        "id": "pp8J2lKI0Vea"
      },
      "source": [
        "#### Exercise 3\n",
        "\n",
        "หากลุ่มสัตว์ต่างๆ ที่อยู่ใกล้กันมา 4 กลุ่ม แล้วลองอธิบายว่าสัตว์ในแต่ละกลุ่มมีอะไรที่เหมือนกัน"
      ]
    },
    {
      "cell_type": "markdown",
      "metadata": {
        "id": "SvI3Rwjcpt6c"
      },
      "source": [
        "1. กลุ่มสัตว์ที่อยู่ทางซ้ายล่าง ได้แก่ persiancat,dalmatian,gorilla เป็นสัตว์เลี้ยงลูกด้วยนม และ มี 4 ขา\n",
        "2. กลุ่มบนซ้าย ได้แก่ mole and mouse ใช้เสียงและกลิ่นในการนำทาง\n",
        "3. กลุ่มบนซ้าย ได้แก่ giant panda and mouse มีขนและอาศัยอยู่บนบก\n",
        "4. กลุ่มสัตว์ที่อยู่ทางซ้ายล่าง ได้แก่ persiancat,dalmatian เป็นสัตว์เลี้ยง"
      ]
    }
  ],
  "metadata": {
    "colab": {
      "provenance": [],
      "include_colab_link": true
    },
    "kernelspec": {
      "display_name": "Python 3 (ipykernel)",
      "language": "python",
      "name": "python3"
    },
    "language_info": {
      "codemirror_mode": {
        "name": "ipython",
        "version": 3
      },
      "file_extension": ".py",
      "mimetype": "text/x-python",
      "name": "python",
      "nbconvert_exporter": "python",
      "pygments_lexer": "ipython3",
      "version": "3.10.12"
    }
  },
  "nbformat": 4,
  "nbformat_minor": 0
}