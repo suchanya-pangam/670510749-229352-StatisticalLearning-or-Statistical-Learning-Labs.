{
  "cells": [
    {
      "cell_type": "markdown",
      "metadata": {
        "id": "view-in-github",
        "colab_type": "text"
      },
      "source": [
        "<a href=\"https://colab.research.google.com/github/suchanya-pangam/670510749-229352-StatisticalLearning-or-Statistical-Learning-Labs./blob/main/229351_LAB03_01.ipynb\" target=\"_parent\"><img src=\"https://colab.research.google.com/assets/colab-badge.svg\" alt=\"Open In Colab\"/></a>"
      ]
    },
    {
      "cell_type": "markdown",
      "metadata": {
        "id": "rUWDxJYaXbGS"
      },
      "source": [
        "ปฏิบัติการครั้งที่ 3 กระบวนวิชา 229351 Statistical Learning for Data Science\n"
      ]
    },
    {
      "cell_type": "markdown",
      "metadata": {
        "id": "40DP82euz0nP"
      },
      "source": [
        "### ในปฏิบัติการนี้เราจะฝึกการทำ PCA ด้วยสองวิธี คือ\n",
        "1. หาด้วยการแยกส่วนประกอบของเมทริกซ์ผ่าน numpy\n",
        "2. หาด้วยการใช้เครื่องมือที่มีมาให้ใน scikit-learn"
      ]
    },
    {
      "cell_type": "markdown",
      "metadata": {
        "id": "rr5sXKql7m_T"
      },
      "source": [
        "#### ตัวอย่าง 1: แยกตัวประกอบ (spectral decomposition) ของเมทริกซ์ต่อไปนี้\n",
        "\n",
        "$$\n",
        "M=\\begin{pmatrix} 3 & 4 & 6 \\\\ 2 & 4 & 6 \\\\ 7 & 8 & 3 \\end{pmatrix}$$"
      ]
    },
    {
      "cell_type": "markdown",
      "metadata": {
        "id": "XyK0RPx379Fo"
      },
      "source": [
        "### ความสำคัญของการ center ข้อมูลก่อนทำ PCA\n",
        "\n",
        "![image](https://i.stack.imgur.com/9vENg.jpg)"
      ]
    },
    {
      "cell_type": "code",
      "execution_count": null,
      "metadata": {
        "id": "W4mkSzTBalJi"
      },
      "outputs": [],
      "source": [
        "import numpy as np\n",
        "\n",
        "# เริ่มจากตัวอย่าง 3x3 เมทริกซ์\n",
        "\n",
        "M = np.array([[3,4,6],[2,4,6],[7,8,3]])\n",
        "\n",
        "np.mean(M, axis=0)\n",
        "\n",
        "M = M - np.mean(M, axis=0)  # normalize the columns\n",
        "\n",
        "# np.cov คำนวณ covariance ระหว่างเวกเตอร์แถว แต่เราต้องการ covariance ของ\n",
        "# เวกเตอร์คอลัมน์ของ A จึงต้องทำการ tranpose ก่อนที่จะใส่ np.cov\n",
        "\n",
        "A = np.cov(M, rowvar=False) # covariance matrix of M\n",
        "\n",
        "print(M, '<- M\\n\\n')\n",
        "print(A, '<- A')"
      ]
    },
    {
      "cell_type": "markdown",
      "metadata": {
        "id": "LzjaJ3Fp9DHH"
      },
      "source": [
        "#### Matrix decomposition\n",
        "\n",
        "$$A =\\begin{pmatrix}\\uparrow & \\uparrow & \\uparrow \\\\\n",
        "u_1 & u_2 & u_3 \\\\\n",
        "\\downarrow & \\downarrow & \\downarrow\n",
        "\\end{pmatrix}\\begin{pmatrix}\\lambda_1 & 0 & 0 \\\\\n",
        "0 & \\lambda_2 & 0 \\\\\n",
        "0 & 0 & \\lambda_3\n",
        "\\end{pmatrix}\\begin{pmatrix}\\leftarrow & u_1 & \\rightarrow \\\\\n",
        "\\leftarrow & u_2 & \\rightarrow \\\\\n",
        "\\leftarrow & u_3 & \\rightarrow\n",
        "\\end{pmatrix}$$\n",
        "\n",
        "คำสั่งที่ใช้คือ `np.linalg.eigh` ([Documentation](https://numpy.org/doc/stable/reference/generated/numpy.linalg.eigh.html))"
      ]
    },
    {
      "cell_type": "code",
      "execution_count": null,
      "metadata": {
        "id": "TKGPbWmBQhH5"
      },
      "outputs": [],
      "source": [
        "# หา eigenvalues และ eigenvectors ของ A ด้วยฟังก์ชันต่อไปนี้\n",
        "\n",
        "specA = np.linalg.eigh(A)\n",
        "\n",
        "specA"
      ]
    },
    {
      "cell_type": "markdown",
      "metadata": {
        "id": "FMIdO-J28sa9"
      },
      "source": [
        "#### SpecA มีสมาชิก 2 ตัว  \n",
        "ตัวที่ 1 คือ Eigenvalues  เรียงจาก**น้อยไปหามาก**  \n",
        "ตัวที่สองคือ Eigenvectors โดยที่ **แต่ละ column คือ eigenvector แต่ละตัว**\n",
        "\n",
        "\\begin{align*}\n",
        "\\texttt{specA[0]} &=  D=[\\lambda_1,\\lambda_2,\\lambda_3] \\\\\n",
        "\\texttt{specA[1]} &=  U=\\begin{pmatrix}\\uparrow & \\uparrow & \\uparrow \\\\\n",
        "u_1 & u_2 & u_3 \\\\\n",
        "\\downarrow & \\downarrow & \\downarrow\n",
        "\\end{pmatrix}\n",
        "\\end{align*}"
      ]
    },
    {
      "cell_type": "code",
      "execution_count": null,
      "metadata": {
        "id": "q8H2hkxL_3qN"
      },
      "outputs": [],
      "source": [
        "D = specA[0]\n",
        "U = specA[1]\n",
        "\n",
        "print(D)\n",
        "print(U)"
      ]
    },
    {
      "cell_type": "code",
      "execution_count": null,
      "metadata": {
        "id": "XE7qG2DhLt1V"
      },
      "outputs": [],
      "source": [
        "# สร้าง diagonal matrix ทีมี eigenvalues ในแนวแทยง\n",
        "\n",
        "diagD = np.diag(D)\n",
        "\n",
        "print(diagD)"
      ]
    },
    {
      "cell_type": "markdown",
      "metadata": {
        "id": "spgyd7MO-jnf"
      },
      "source": [
        "#### ลองเช็คว่าการแยกส่วนประกอบของ A ถูกต้องหรือไม่ดัวยสูตร\n",
        "\n",
        "$$A =\\begin{pmatrix}\\uparrow & \\uparrow & \\uparrow \\\\\n",
        "u_1 & u_2 & u_3 \\\\\n",
        "\\downarrow & \\downarrow & \\downarrow\n",
        "\\end{pmatrix}\\begin{pmatrix}\\lambda_1 & 0 & 0 \\\\\n",
        "0 & \\lambda_2 & 0 \\\\\n",
        "0 & 0 & \\lambda_3\n",
        "\\end{pmatrix}\\begin{pmatrix}\\leftarrow & u_1 & \\rightarrow \\\\\n",
        "\\leftarrow & u_2 & \\rightarrow \\\\\n",
        "\\leftarrow & u_3 & \\rightarrow\n",
        "\\end{pmatrix}$$"
      ]
    },
    {
      "cell_type": "code",
      "execution_count": null,
      "metadata": {
        "id": "9bZFhpYC4BtE"
      },
      "outputs": [],
      "source": [
        "print(A, ' <- A')\n",
        "\n",
        "print(U @ diagD @ U.T,' <- U^TDU')"
      ]
    },
    {
      "cell_type": "markdown",
      "metadata": {
        "id": "XLJKQcPrAd_x"
      },
      "source": [
        "#### ทำ PCA จากข้อมูลที่มีอยู่ 3 มิติให้เหลือ 2 มิติ\n",
        "1. เริ่มด้วยการหา Eigenvector ที่มีค่า Eigenvalue สูงสุดสองอันดับแรก"
      ]
    },
    {
      "cell_type": "code",
      "execution_count": null,
      "metadata": {
        "id": "7TWReO68LYTO"
      },
      "outputs": [],
      "source": [
        "# D = [0, 0.137, 15.2]\n",
        "\n",
        "l_2 = D[-1] #eigenvalue ที่มีค่าสูงที่สุด\n",
        "l_3 = D[-2] #eigenvalue ที่มีค่ารองลงมา\n",
        "\n",
        "U_23 = U[:,-2:]\n",
        "\n",
        "\n",
        "print(U_23, ' <- U_2')"
      ]
    },
    {
      "cell_type": "markdown",
      "metadata": {
        "id": "VxteAckDF6_x"
      },
      "source": [
        "#### ให้ตัวเลขในแต่ละแถวของ $A$ ทำ projection บนเวกเตอร์ $u_1$ และ $u_2$ ทำได้โดย\n",
        "$$MU_{23}=\\begin{pmatrix} \\longleftarrow & x & \\longrightarrow \\\\ \\longleftarrow & y & \\longrightarrow \\\\ \\longleftarrow & z & \\longrightarrow \\end{pmatrix}\\begin{pmatrix}\\uparrow & \\uparrow \\\\\n",
        "u_2 & u_3  \\\\\n",
        "\\downarrow & \\downarrow\n",
        "\\end{pmatrix}=\\begin{pmatrix}x\\cdot u_2 &x\\cdot u_3 \\\\\n",
        "y\\cdot u_2 &y\\cdot u_3 \\\\\n",
        "z\\cdot u_2 &z\\cdot u_3\\end{pmatrix}$$"
      ]
    },
    {
      "cell_type": "code",
      "execution_count": null,
      "metadata": {
        "id": "NZa2EvC3MQ8w"
      },
      "outputs": [],
      "source": [
        "M2 = M @ U_23  # M คือ matrix ที่มีข้อมูลอยู่\n",
        "\n",
        "# not U_23 @ M\n",
        "\n",
        "print(M2)"
      ]
    },
    {
      "cell_type": "code",
      "execution_count": null,
      "metadata": {
        "id": "2oLZBdcdl6xo"
      },
      "outputs": [],
      "source": [
        "import matplotlib.pyplot as plt\n",
        "\n",
        "# Plot initialization\n",
        "fig = plt.figure(figsize=(12,5))\n",
        "\n",
        "ax1 = fig.add_subplot(121, projection='3d')\n",
        "ax1.scatter(M[:,0], M[:,1], M[:,2], s=60);\n",
        "\n",
        "ax2 = fig.add_subplot(122)\n",
        "ax2.scatter(M2[:,0], M2[:,1], s=60);"
      ]
    },
    {
      "cell_type": "markdown",
      "metadata": {
        "id": "QR-GOrNEqW7f"
      },
      "source": [
        "#### การทำ PCA ด้วย scikit-learn โดยใช้ sklearn.decomposition.PCA ([Documentation](https://scikit-learn.org/stable/modules/generated/sklearn.decomposition.PCA.html))"
      ]
    },
    {
      "cell_type": "code",
      "execution_count": null,
      "metadata": {
        "id": "A9S0nbWIK9Qg"
      },
      "outputs": [],
      "source": [
        "from sklearn.decomposition import PCA\n",
        "\n",
        "pca = PCA(n_components=2)\n",
        "B2 = pca.fit_transform(M)\n",
        "print(B2)"
      ]
    },
    {
      "cell_type": "markdown",
      "metadata": {
        "id": "9HMC1qZcsSPw"
      },
      "source": [
        "#### ลองดูว่าทิศทางของ principal component มีอะไรบ้าง"
      ]
    },
    {
      "cell_type": "code",
      "execution_count": null,
      "metadata": {
        "id": "NIelTMhisA3s"
      },
      "outputs": [],
      "source": [
        "print(U_23)\n",
        "\n",
        "pca.components_"
      ]
    },
    {
      "cell_type": "markdown",
      "metadata": {
        "id": "LLks01-ts1yJ"
      },
      "source": [
        "#### สามารถดูได้ว่าในแต่ละทิศได้อธิบายความแปรปรวนของข้อมูลไปเท่าไหร่"
      ]
    },
    {
      "cell_type": "code",
      "execution_count": null,
      "metadata": {
        "id": "OfeTqzPSsGTV"
      },
      "outputs": [],
      "source": [
        "pca.explained_variance_"
      ]
    },
    {
      "cell_type": "markdown",
      "metadata": {
        "id": "WOnPRlb2tL9n"
      },
      "source": [
        "#### หรือสามารถดูเป็นสัดส่วนได้"
      ]
    },
    {
      "cell_type": "code",
      "execution_count": null,
      "metadata": {
        "id": "4_ScwWyNss7q"
      },
      "outputs": [],
      "source": [
        "pca.explained_variance_ratio_"
      ]
    },
    {
      "cell_type": "code",
      "execution_count": null,
      "metadata": {
        "id": "0IGOHgay79GL"
      },
      "outputs": [],
      "source": []
    }
  ],
  "metadata": {
    "colab": {
      "provenance": [],
      "include_colab_link": true
    },
    "kernelspec": {
      "display_name": "Python 3 (ipykernel)",
      "language": "python",
      "name": "python3"
    },
    "language_info": {
      "codemirror_mode": {
        "name": "ipython",
        "version": 3
      },
      "file_extension": ".py",
      "mimetype": "text/x-python",
      "name": "python",
      "nbconvert_exporter": "python",
      "pygments_lexer": "ipython3",
      "version": "3.10.12"
    }
  },
  "nbformat": 4,
  "nbformat_minor": 0
}